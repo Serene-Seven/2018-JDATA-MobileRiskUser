{
 "cells": [
  {
   "cell_type": "code",
   "execution_count": 1,
   "metadata": {},
   "outputs": [],
   "source": [
    "import pandas as pd\n",
    "import numpy as np"
   ]
  },
  {
   "cell_type": "markdown",
   "metadata": {
    "collapsed": true
   },
   "source": [
    "## 初探数据"
   ]
  },
  {
   "cell_type": "code",
   "execution_count": 2,
   "metadata": {},
   "outputs": [],
   "source": [
    "uid_train = pd.read_csv('../data/uid_train.txt',sep='\\t',header=None,names=('uid','label'))\n",
    "voice_train = pd.read_csv('../data/voice_train.txt',sep='\\t',header=None,names=('uid','opp_num','opp_head','opp_len','start_time','end_time','call_type','in_out'),dtype={'start_time':str,'end_time':str})\n",
    "sms_train = pd.read_csv('../data/sms_train.txt',sep='\\t',header=None,names=('uid','opp_num','opp_head','opp_len','start_time','in_out'),dtype={'start_time':str})\n",
    "wa_train = pd.read_csv('../data/wa_train.txt',sep='\\t',header=None,names=('uid','wa_name','visit_cnt','visit_dura','up_flow','down_flow','wa_type','date'),dtype={'date':str})"
   ]
  },
  {
   "cell_type": "code",
   "execution_count": 3,
   "metadata": {},
   "outputs": [],
   "source": [
    "voice_test_a = pd.read_csv('../data/voice_test_a.txt',sep='\\t',header=None,names=('uid','opp_num','opp_head','opp_len','start_time','end_time','call_type','in_out'),dtype={'start_time':str,'end_time':str})\n",
    "sms_test_a = pd.read_csv('../data/sms_test_a.txt',sep='\\t',header=None,names=('uid','opp_num','opp_head','opp_len','start_time','in_out'),dtype={'start_time':str})\n",
    "wa_test_a = pd.read_csv('../data/wa_test_a.txt',sep='\\t',header=None,names=('uid','wa_name','visit_cnt','visit_dura','up_flow','down_flow','wa_type','date'),dtype={'date':str})"
   ]
  },
  {
   "cell_type": "code",
   "execution_count": 4,
   "metadata": {},
   "outputs": [],
   "source": [
    "voice_test_b = pd.read_csv('../data/voice_test_b.txt',sep='\\t',header=None,names=('uid','opp_num','opp_head','opp_len','start_time','end_time','call_type','in_out'),dtype={'start_time':str,'end_time':str})\n",
    "sms_test_b = pd.read_csv('../data/sms_test_b.txt',sep='\\t',header=None,names=('uid','opp_num','opp_head','opp_len','start_time','in_out'),dtype={'start_time':str})\n",
    "wa_test_b = pd.read_csv('../data/wa_test_b.txt',sep='\\t',header=None,names=('uid','wa_name','visit_cnt','visit_dura','up_flow','down_flow','wa_type','date'),dtype={'date':str})"
   ]
  },
  {
   "cell_type": "code",
   "execution_count": 5,
   "metadata": {},
   "outputs": [],
   "source": [
    "def getVoiceDura(startTime, endTime):\n",
    "    #start time\n",
    "    str1 = str(startTime).zfill(8)\n",
    "    day1 = int(str1[0:2])\n",
    "    hour1 = int(str1[2:4])\n",
    "    minute1 = int(str1[4:6])\n",
    "    second1 = int(str1[6:8])\n",
    "    #end time\n",
    "    str2 = str(endTime).zfill(8)\n",
    "    day2 = int(str2[0:2])\n",
    "    hour2 =  int(str2[2:4])\n",
    "    minute2 = int(str2[4:6])\n",
    "    second2 = int(str2[6:8])\n",
    "    if (day2 > day1):\n",
    "        hour2 += (day2 - day1) * 24\n",
    "    duraTime = (hour2  - hour1) * 3600 + (minute2 - minute1) * 60 + (second2 - second1)\n",
    "    return duraTime"
   ]
  },
  {
   "cell_type": "code",
   "execution_count": 6,
   "metadata": {},
   "outputs": [],
   "source": [
    "def getMaxOppNum(ylist):\n",
    "    for tmp in ylist:\n",
    "        maxtimes = 0\n",
    "        times = 0\n",
    "        for dlist in ylist:\n",
    "            if tmp == dlist:\n",
    "                times += 1\n",
    "        if maxtimes < times:\n",
    "            maxtimes = times\n",
    "    return maxtimes"
   ]
  },
  {
   "cell_type": "code",
   "execution_count": 7,
   "metadata": {},
   "outputs": [
    {
     "name": "stdout",
     "output_type": "stream",
     "text": [
      "<class 'pandas.core.frame.DataFrame'>\n",
      "RangeIndex: 1150778 entries, 0 to 1150777\n",
      "Data columns (total 8 columns):\n",
      "uid           1150778 non-null object\n",
      "opp_num       1150778 non-null object\n",
      "opp_head      1150778 non-null int64\n",
      "opp_len       1150778 non-null int64\n",
      "start_time    1150778 non-null object\n",
      "end_time      1150778 non-null object\n",
      "call_type     1150778 non-null int64\n",
      "in_out        1150778 non-null int64\n",
      "dtypes: int64(4), object(4)\n",
      "memory usage: 70.2+ MB\n",
      "None\n",
      "<class 'pandas.core.frame.DataFrame'>\n",
      "RangeIndex: 302976 entries, 0 to 302975\n",
      "Data columns (total 6 columns):\n",
      "uid           302976 non-null object\n",
      "opp_num       302976 non-null object\n",
      "opp_head      302976 non-null int64\n",
      "opp_len       302976 non-null int64\n",
      "start_time    302976 non-null object\n",
      "in_out        302976 non-null int64\n",
      "dtypes: int64(3), object(3)\n",
      "memory usage: 13.9+ MB\n",
      "None\n",
      "<class 'pandas.core.frame.DataFrame'>\n",
      "RangeIndex: 4808343 entries, 0 to 4808342\n",
      "Data columns (total 8 columns):\n",
      "uid           object\n",
      "wa_name       object\n",
      "visit_cnt     float64\n",
      "visit_dura    float64\n",
      "up_flow       float64\n",
      "down_flow     float64\n",
      "wa_type       float64\n",
      "date          object\n",
      "dtypes: float64(5), object(3)\n",
      "memory usage: 293.5+ MB\n",
      "None\n"
     ]
    }
   ],
   "source": [
    "print(voice_train.info())\n",
    "print(sms_train.info())\n",
    "print(wa_train.info())"
   ]
  },
  {
   "cell_type": "markdown",
   "metadata": {},
   "source": [
    "## 获得测试集A的uid"
   ]
  },
  {
   "cell_type": "code",
   "execution_count": 8,
   "metadata": {},
   "outputs": [],
   "source": [
    "uid_test_a = pd.DataFrame({'uid':pd.unique(wa_test_a['uid'])})\n",
    "uid_test_a.to_csv('../data/uid_test_a.txt',index=None)"
   ]
  },
  {
   "cell_type": "markdown",
   "metadata": {},
   "source": [
    "## 获得测试集B的uid"
   ]
  },
  {
   "cell_type": "code",
   "execution_count": 9,
   "metadata": {},
   "outputs": [],
   "source": [
    "uid_test_b = pd.DataFrame({'uid':pd.unique(wa_test_b['uid'])})\n",
    "uid_test_b.to_csv('../data/uid_test_b.txt',index=None)"
   ]
  },
  {
   "cell_type": "markdown",
   "metadata": {},
   "source": [
    "## 合并训练集和测试集"
   ]
  },
  {
   "cell_type": "code",
   "execution_count": 10,
   "metadata": {},
   "outputs": [],
   "source": [
    "voice = pd.concat([voice_train,voice_test_a,voice_test_b],axis=0)\n",
    "sms = pd.concat([sms_train,sms_test_a,sms_test_b],axis=0)\n",
    "wa = pd.concat([wa_train,wa_test_a,wa_test_b],axis=0)"
   ]
  },
  {
   "cell_type": "code",
   "execution_count": 11,
   "metadata": {},
   "outputs": [],
   "source": [
    "#qqq = voice_time_dura = voice.groupby(['uid','opp_len'])['uid', 'voice_time_last']\n",
    "#print(qqq.head(10))"
   ]
  },
  {
   "cell_type": "markdown",
   "metadata": {},
   "source": [
    "##  baseline"
   ]
  },
  {
   "cell_type": "markdown",
   "metadata": {},
   "source": [
    "### 通话记录"
   ]
  },
  {
   "cell_type": "code",
   "execution_count": 12,
   "metadata": {},
   "outputs": [
    {
     "name": "stderr",
     "output_type": "stream",
     "text": [
      "D:\\Anaconda3\\lib\\site-packages\\ipykernel_launcher.py:2: FutureWarning: using a dict on a Series for aggregation\n",
      "is deprecated and will be removed in a future version\n",
      "  \n",
      "D:\\Anaconda3\\lib\\site-packages\\ipykernel_launcher.py:4: FutureWarning: using a dict on a Series for aggregation\n",
      "is deprecated and will be removed in a future version\n",
      "  after removing the cwd from sys.path.\n"
     ]
    }
   ],
   "source": [
    "# 每个用户的通话号码数\n",
    "voice_opp_num = voice.groupby(['uid'])['opp_num'].agg({'unique_count': lambda x: len(pd.unique(x)),'count':'count','max_times': lambda x: getMaxOppNum(x)}).add_prefix('voice_opp_num_').reset_index()\n",
    "\n",
    "voice_opp_head = voice.groupby(['uid'])['opp_head'].agg({'unique_count': lambda x: len(pd.unique(x))}).add_prefix('voice_opp_head_').reset_index()\n",
    "\n",
    "voice['opp_head'] = voice['opp_head'].astype('float64')\n",
    "\n",
    "voice_opp_heads = voice.groupby(['uid'])['opp_head'].agg(['std','max','min','median','mean','sum']).add_prefix('voice_opp_head_').reset_index()\n",
    "\n",
    "voice_opp_len = voice.groupby(['uid','opp_len'])['uid'].count().unstack().add_prefix('voice_opp_len_').reset_index().fillna(0)\n",
    "\n",
    "voice['opp_len'] = voice['opp_len'].astype('float64')\n",
    "\n",
    "voice_opp_lens = voice.groupby(['uid'])['opp_len'].agg(['std','max','min','median','mean','sum']).add_prefix('voice_opp_len_').reset_index()\n",
    "\n",
    "voice['voice_time_last'] = voice.apply(lambda t: getVoiceDura(t['start_time'], t['end_time']), axis=1)\n",
    "\n",
    "voice_time_dura = pd.DataFrame({'uid': voice['uid'], 'voice_time_dura':voice['voice_time_last']})\n",
    "\n",
    "voice_call_type = voice.groupby(['uid','call_type'])['uid'].count().unstack().add_prefix('voice_call_type_').reset_index().fillna(0)\n",
    "\n",
    "voice_in_out = voice.groupby(['uid','in_out'])['uid'].count().unstack().add_prefix('voice_in_out_').reset_index().fillna(0)"
   ]
  },
  {
   "cell_type": "markdown",
   "metadata": {},
   "source": [
    "### 短信记录"
   ]
  },
  {
   "cell_type": "code",
   "execution_count": 13,
   "metadata": {},
   "outputs": [
    {
     "name": "stderr",
     "output_type": "stream",
     "text": [
      "D:\\Anaconda3\\lib\\site-packages\\ipykernel_launcher.py:1: FutureWarning: using a dict on a Series for aggregation\n",
      "is deprecated and will be removed in a future version\n",
      "  \"\"\"Entry point for launching an IPython kernel.\n",
      "D:\\Anaconda3\\lib\\site-packages\\ipykernel_launcher.py:3: FutureWarning: using a dict on a Series for aggregation\n",
      "is deprecated and will be removed in a future version\n",
      "  This is separate from the ipykernel package so we can avoid doing imports until\n"
     ]
    }
   ],
   "source": [
    "sms_opp_num = sms.groupby(['uid'])['opp_num'].agg({'unique_count': lambda x: len(pd.unique(x)),'count':'count','max_times': lambda x: getMaxOppNum(x)}).add_prefix('sms_opp_num_').reset_index()\n",
    "\n",
    "sms_opp_head = sms.groupby(['uid'])['opp_head'].agg({'unique_count': lambda x: len(pd.unique(x))}).add_prefix('sms_opp_head_').reset_index()\n",
    "\n",
    "sms['opp_head'] = sms['opp_head'].astype('float64')\n",
    "\n",
    "sms_opp_heads = sms.groupby(['uid'])['opp_head'].agg(['std','max','min','median','mean','sum']).add_prefix('sms_opp_head_').reset_index()\n",
    "\n",
    "sms_opp_len = sms.groupby(['uid','opp_len'])['uid'].count().unstack().add_prefix('sms_opp_len_').reset_index().fillna(0)\n",
    "\n",
    "sms['opp_len'] = sms['opp_len'].astype('float64')\n",
    "\n",
    "sms_opp_lens = sms.groupby(['uid'])['opp_len'].agg(['std','max','min','median','mean','sum']).add_prefix('sms_opp_len_').reset_index()\n",
    "\n",
    "sms_in_out = sms.groupby(['uid','in_out'])['uid'].count().unstack().add_prefix('sms_in_out_').reset_index().fillna(0)"
   ]
  },
  {
   "cell_type": "markdown",
   "metadata": {},
   "source": [
    "### 网站/APP记录"
   ]
  },
  {
   "cell_type": "code",
   "execution_count": 14,
   "metadata": {},
   "outputs": [
    {
     "name": "stderr",
     "output_type": "stream",
     "text": [
      "D:\\Anaconda3\\lib\\site-packages\\ipykernel_launcher.py:1: FutureWarning: using a dict on a Series for aggregation\n",
      "is deprecated and will be removed in a future version\n",
      "  \"\"\"Entry point for launching an IPython kernel.\n"
     ]
    }
   ],
   "source": [
    "wa_name = wa.groupby(['uid'])['wa_name'].agg({'unique_count': lambda x: len(pd.unique(x)),'count':'count','max_times': lambda x: getMaxOppNum(x)}).add_prefix('wa_name_').reset_index()\n",
    "\n",
    "visit_cnt = wa.groupby(['uid'])['visit_cnt'].agg(['std','max','min','median','mean','sum']).add_prefix('wa_visit_cnt_').reset_index()\n",
    "\n",
    "visit_dura = wa.groupby(['uid'])['visit_dura'].agg(['std','max','min','median','mean','sum']).add_prefix('wa_visit_dura_').reset_index()\n",
    "\n",
    "up_flow = wa.groupby(['uid'])['up_flow'].agg(['std','max','min','median','mean','sum']).add_prefix('wa_up_flow_').reset_index()\n",
    "\n",
    "down_flow = wa.groupby(['uid'])['down_flow'].agg(['std','max','min','median','mean','sum']).add_prefix('wa_down_flow_').reset_index()\n",
    "\n",
    "wa_type = wa.groupby(['uid','wa_type'])['uid'].count().unstack().add_prefix('wa_type_').reset_index().fillna(0)\n",
    "\n",
    "wa['date'] = wa['date'].astype(float)\n",
    "\n",
    "wa_date = wa.groupby(['uid'])['date'].agg(['std','max','min','median','mean','sum']).add_prefix('wa_date_').reset_index()"
   ]
  },
  {
   "cell_type": "markdown",
   "metadata": {},
   "source": [
    "## 提取特征"
   ]
  },
  {
   "cell_type": "code",
   "execution_count": 15,
   "metadata": {},
   "outputs": [],
   "source": [
    "feature = [voice_opp_num,voice_opp_head,voice_opp_heads,voice_opp_len,voice_opp_lens,voice_time_dura,voice_call_type,voice_in_out,\n",
    "           sms_opp_num,sms_opp_head,sms_opp_heads,sms_opp_len,sms_opp_lens,sms_in_out,\n",
    "           wa_name,visit_cnt,visit_dura,up_flow,down_flow,wa_type,wa_date]"
   ]
  },
  {
   "cell_type": "markdown",
   "metadata": {},
   "source": [
    "## 拆分训练集测试集特征"
   ]
  },
  {
   "cell_type": "code",
   "execution_count": 16,
   "metadata": {},
   "outputs": [],
   "source": [
    "train_feature = uid_train\n",
    "for feat in feature:\n",
    "    train_feature = pd.merge(train_feature,feat,how='left',on='uid')"
   ]
  },
  {
   "cell_type": "code",
   "execution_count": 17,
   "metadata": {},
   "outputs": [],
   "source": [
    "test_feature_a = uid_test_a\n",
    "for feat in feature:\n",
    "    test_feature_a = pd.merge(test_feature_a,feat,how='left',on='uid')"
   ]
  },
  {
   "cell_type": "code",
   "execution_count": 18,
   "metadata": {},
   "outputs": [],
   "source": [
    "test_feature_b = uid_test_b\n",
    "for feat in feature:\n",
    "    test_feature_b = pd.merge(test_feature_b,feat,how='left',on='uid')"
   ]
  },
  {
   "cell_type": "markdown",
   "metadata": {},
   "source": [
    "## 将特征保存为csv文件形式"
   ]
  },
  {
   "cell_type": "code",
   "execution_count": 19,
   "metadata": {},
   "outputs": [],
   "source": [
    "train_feature.to_csv('../data/train_feature_V1.csv',index=None)\n",
    "test_feature_a.to_csv('../data/test_feature_a_V1.csv',index=None)\n",
    "test_feature_b.to_csv('../data/test_feature_b_V1.csv',index=None)"
   ]
  }
 ],
 "metadata": {
  "kernelspec": {
   "display_name": "Python 3",
   "language": "python",
   "name": "python3"
  },
  "language_info": {
   "codemirror_mode": {
    "name": "ipython",
    "version": 3
   },
   "file_extension": ".py",
   "mimetype": "text/x-python",
   "name": "python",
   "nbconvert_exporter": "python",
   "pygments_lexer": "ipython3",
   "version": "3.6.4"
  }
 },
 "nbformat": 4,
 "nbformat_minor": 2
}
